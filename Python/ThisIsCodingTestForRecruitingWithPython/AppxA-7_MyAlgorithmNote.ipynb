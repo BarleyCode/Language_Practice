{
 "cells": [
  {
   "cell_type": "markdown",
   "id": "b49476ed-3af7-4e16-ab8d-7139eab8ce55",
   "metadata": {},
   "source": [
    "# 부록 A-7 자신만의 알고리즘 노트 만들기\n",
    "\n",
    "* 구현했던 함수 중 유용한 건 대회/코딩테스트 후 바로 닫지 말고 라이브러리화하기\n",
    "* 참고 : https://github.com/ndb796/Python-Competitive-Programming-Team-Notes\n",
    "* 예 : 2차원 리스트(행렬) 90도 회전"
   ]
  },
  {
   "cell_type": "code",
   "execution_count": 1,
   "id": "d429237f-849e-4d95-a58d-1eb7b5d9d231",
   "metadata": {},
   "outputs": [
    {
     "name": "stdout",
     "output_type": "stream",
     "text": [
      "[[9, 5, 1], [10, 6, 2], [11, 7, 3], [12, 8, 4]]\n"
     ]
    }
   ],
   "source": [
    "def rotate_a_matrix_by_90_degree(a) :\n",
    "    row_length = len(a)\n",
    "    column_length = len(a[0])\n",
    "    \n",
    "    res = [[0] * row_length for _ in range(column_length)]\n",
    "    for r in range(row_length) :\n",
    "        for c in range(column_length) :\n",
    "            res[c][row_length-1-r] = a[r][c]\n",
    "    return res\n",
    "\n",
    "a = [\n",
    "    [1,2,3,4],\n",
    "    [5,6,7,8],\n",
    "    [9,10,11,12]]\n",
    "print(rotate_a_matrix_by_90_degree(a))"
   ]
  },
  {
   "cell_type": "code",
   "execution_count": null,
   "id": "f4c2bd49-789e-4fe7-843c-8edac6227f70",
   "metadata": {},
   "outputs": [],
   "source": []
  }
 ],
 "metadata": {
  "kernelspec": {
   "display_name": "Python 3 (ipykernel)",
   "language": "python",
   "name": "python3"
  },
  "language_info": {
   "codemirror_mode": {
    "name": "ipython",
    "version": 3
   },
   "file_extension": ".py",
   "mimetype": "text/x-python",
   "name": "python",
   "nbconvert_exporter": "python",
   "pygments_lexer": "ipython3",
   "version": "3.7.11"
  }
 },
 "nbformat": 4,
 "nbformat_minor": 5
}
