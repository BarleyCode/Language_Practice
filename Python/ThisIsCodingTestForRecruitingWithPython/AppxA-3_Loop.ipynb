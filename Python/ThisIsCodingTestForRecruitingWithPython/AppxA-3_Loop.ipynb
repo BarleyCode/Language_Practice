{
 "cells": [
  {
   "cell_type": "markdown",
   "id": "f9c10679-b9c9-4db3-90a5-0da4abce7034",
   "metadata": {},
   "source": [
    "# 부록 A-3 반복문\n",
    "\n",
    "## 3.1 while문\n",
    "* 조건문이 참일 때에 한해 반복적으로 코드 수행"
   ]
  },
  {
   "cell_type": "code",
   "execution_count": 3,
   "id": "c502e193-65c2-47cd-8077-85e2043dcdad",
   "metadata": {},
   "outputs": [
    {
     "name": "stdout",
     "output_type": "stream",
     "text": [
      "45\n"
     ]
    }
   ],
   "source": [
    "i = 1\n",
    "result = 0\n",
    "# i가 9보다 작거나 같을 때 아래 코드를 반복적으로 실행\n",
    "while i <= 9 :\n",
    "    result += i\n",
    "    i += 1\n",
    "print(result)"
   ]
  },
  {
   "cell_type": "code",
   "execution_count": 4,
   "id": "16ad17e0-84b8-4f8b-87b4-64a3e9f84280",
   "metadata": {},
   "outputs": [
    {
     "name": "stdout",
     "output_type": "stream",
     "text": [
      "25\n"
     ]
    }
   ],
   "source": [
    "# 홀수만 더하기\n",
    "i = 1\n",
    "result = 0\n",
    "\n",
    "while i <= 9 :\n",
    "    if (i%2 == 1) :\n",
    "        result += i\n",
    "    i += 1\n",
    "print(result)"
   ]
  },
  {
   "cell_type": "markdown",
   "id": "8033d9f6-856d-4f82-9841-b1477622df0a",
   "metadata": {},
   "source": [
    "## 3.2 for문\n",
    "* in 뒤의 데이터 : 리스트, 튜플, 문자열 등"
   ]
  },
  {
   "cell_type": "code",
   "execution_count": 5,
   "id": "be599e6c-f567-417f-a8e7-f6922a7ee88b",
   "metadata": {},
   "outputs": [
    {
     "name": "stdout",
     "output_type": "stream",
     "text": [
      "45\n"
     ]
    }
   ],
   "source": [
    "# 앞의 1부터 9까지의 합을 for문으로 구현\n",
    "result = 0\n",
    "\n",
    "for i in range(1,10) :\n",
    "    result += i\n",
    "\n",
    "print(result)"
   ]
  },
  {
   "cell_type": "markdown",
   "id": "c5e8080c-f6c5-4144-8501-971c3efcb9f2",
   "metadata": {},
   "source": [
    "* range의 값을 하나만 넣으면 시작 값 = 0(자동)"
   ]
  },
  {
   "cell_type": "code",
   "execution_count": 6,
   "id": "03eecff1-50d1-4734-bc4c-70a8272b1588",
   "metadata": {},
   "outputs": [
    {
     "name": "stdout",
     "output_type": "stream",
     "text": [
      "1 번 학생은 합격입니다.\n",
      "2 번 학생은 합격입니다.\n",
      "5 번 학생은 합격입니다.\n"
     ]
    }
   ],
   "source": [
    "scores = [90, 85, 77, 65, 97]\n",
    "\n",
    "for i in range(5) :\n",
    "    if (scores[i] >= 80) :\n",
    "        print(i+1, \"번 학생은 합격입니다.\")"
   ]
  },
  {
   "cell_type": "markdown",
   "id": "6c4078e3-9182-4225-8cec-edd3ac9c56f9",
   "metadata": {},
   "source": [
    "* continue를 만나면 반복문의 처음으로 돌아감"
   ]
  },
  {
   "cell_type": "code",
   "execution_count": 7,
   "id": "fd5cbff1-6f14-4e36-9e9c-11d6ca14fe44",
   "metadata": {},
   "outputs": [
    {
     "name": "stdout",
     "output_type": "stream",
     "text": [
      "1 번 학생은 합격입니다.\n",
      "5 번 학생은 합격입니다.\n"
     ]
    }
   ],
   "source": [
    "scores = [90, 85, 77, 65, 97]\n",
    "cheating_list = {2,4}\n",
    "\n",
    "for i in range(5) :\n",
    "    if (i+1 in cheating_list) :\n",
    "        continue\n",
    "    if (scores[i] >= 80) :\n",
    "        print(i+1, \"번 학생은 합격입니다.\")"
   ]
  },
  {
   "cell_type": "markdown",
   "id": "9274793f-fa90-4331-87cb-97866d8d2d5a",
   "metadata": {},
   "source": [
    "* 반복문은 얼마든지 중첩해 사용 가능\n",
    "* 예 : 구구단, 플로이드-워셜(Floyd-Warshall) 알고리즘, 동적 프로그래밍 등"
   ]
  },
  {
   "cell_type": "code",
   "execution_count": 8,
   "id": "fb046c52-7ba9-420d-940f-53e4fec16f39",
   "metadata": {},
   "outputs": [
    {
     "name": "stdout",
     "output_type": "stream",
     "text": [
      "2 X 1 = 2\n",
      "2 X 2 = 4\n",
      "2 X 3 = 6\n",
      "2 X 4 = 8\n",
      "2 X 5 = 10\n",
      "2 X 6 = 12\n",
      "2 X 7 = 14\n",
      "2 X 8 = 16\n",
      "2 X 9 = 18\n",
      "\n",
      "3 X 1 = 3\n",
      "3 X 2 = 6\n",
      "3 X 3 = 9\n",
      "3 X 4 = 12\n",
      "3 X 5 = 15\n",
      "3 X 6 = 18\n",
      "3 X 7 = 21\n",
      "3 X 8 = 24\n",
      "3 X 9 = 27\n",
      "\n",
      "4 X 1 = 4\n",
      "4 X 2 = 8\n",
      "4 X 3 = 12\n",
      "4 X 4 = 16\n",
      "4 X 5 = 20\n",
      "4 X 6 = 24\n",
      "4 X 7 = 28\n",
      "4 X 8 = 32\n",
      "4 X 9 = 36\n",
      "\n",
      "5 X 1 = 5\n",
      "5 X 2 = 10\n",
      "5 X 3 = 15\n",
      "5 X 4 = 20\n",
      "5 X 5 = 25\n",
      "5 X 6 = 30\n",
      "5 X 7 = 35\n",
      "5 X 8 = 40\n",
      "5 X 9 = 45\n",
      "\n",
      "6 X 1 = 6\n",
      "6 X 2 = 12\n",
      "6 X 3 = 18\n",
      "6 X 4 = 24\n",
      "6 X 5 = 30\n",
      "6 X 6 = 36\n",
      "6 X 7 = 42\n",
      "6 X 8 = 48\n",
      "6 X 9 = 54\n",
      "\n",
      "7 X 1 = 7\n",
      "7 X 2 = 14\n",
      "7 X 3 = 21\n",
      "7 X 4 = 28\n",
      "7 X 5 = 35\n",
      "7 X 6 = 42\n",
      "7 X 7 = 49\n",
      "7 X 8 = 56\n",
      "7 X 9 = 63\n",
      "\n",
      "8 X 1 = 8\n",
      "8 X 2 = 16\n",
      "8 X 3 = 24\n",
      "8 X 4 = 32\n",
      "8 X 5 = 40\n",
      "8 X 6 = 48\n",
      "8 X 7 = 56\n",
      "8 X 8 = 64\n",
      "8 X 9 = 72\n",
      "\n",
      "9 X 1 = 9\n",
      "9 X 2 = 18\n",
      "9 X 3 = 27\n",
      "9 X 4 = 36\n",
      "9 X 5 = 45\n",
      "9 X 6 = 54\n",
      "9 X 7 = 63\n",
      "9 X 8 = 72\n",
      "9 X 9 = 81\n",
      "\n"
     ]
    }
   ],
   "source": [
    "for i in range(2, 10) :\n",
    "    for j in range(1, 10) :\n",
    "        print(i, \"X\", j, \"=\", i*j)\n",
    "    print()"
   ]
  }
 ],
 "metadata": {
  "kernelspec": {
   "display_name": "Python 3 (ipykernel)",
   "language": "python",
   "name": "python3"
  },
  "language_info": {
   "codemirror_mode": {
    "name": "ipython",
    "version": 3
   },
   "file_extension": ".py",
   "mimetype": "text/x-python",
   "name": "python",
   "nbconvert_exporter": "python",
   "pygments_lexer": "ipython3",
   "version": "3.7.11"
  }
 },
 "nbformat": 4,
 "nbformat_minor": 5
}
