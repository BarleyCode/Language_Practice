{
 "cells": [
  {
   "cell_type": "markdown",
   "id": "f9411870-45fd-472d-87d7-607fce20522f",
   "metadata": {},
   "source": [
    "# 부록 A-6 주요 라이브러리의 문법과 유의점\n",
    "* 표준 라이브러리 : 특정 프로그래밍 언어에서 자주 사용되는 표준 소스 코드를 미리 구현한 라이브러리\n",
    "* 알아두면 Python 필수 라이브러리들\n",
    "    * 내장 함수 : print(), input(), sorted() 등\n",
    "    * itertools : 반복되는 형태의 데이터 처리 기능 제공. 순열/조합 라이브러리 제공\n",
    "    * heapq : 힙 기능 제공. 우선 순위 큐 구현에 사용\n",
    "    * bisect : 이진 탐색 기능 제공\n",
    "    * collections : 데크(deque), 카운터(counter)등 유용한 자료 구조 포험\n",
    "    * math : 필수적인 수학 기능 제공. 팩토리얼, 제곱근, 최대공약수, 삼각함수, 파이(π) 등\n",
    "\n",
    "## 6.1 내장 함수\n",
    "* sum() : iterable 객체(반복 가능 객체 : 리스트, 사전 자료형, 튜플 등)가 입력으로 주어졌을 때 모든 원소의 합 반환"
   ]
  },
  {
   "cell_type": "code",
   "execution_count": 1,
   "id": "ed8dc1d3-c0e8-455b-8b7d-d8e0f9e5401c",
   "metadata": {},
   "outputs": [
    {
     "name": "stdout",
     "output_type": "stream",
     "text": [
      "15\n"
     ]
    }
   ],
   "source": [
    "result = sum([1,2,3,4,5])\n",
    "print(result)"
   ]
  },
  {
   "cell_type": "markdown",
   "id": "0366ace3-d788-49de-9d97-d64f691c655c",
   "metadata": {},
   "source": [
    "* min() : 파라미터 2개 이상 들어왔을 때 가장 작은 값 반환\n",
    "* max() : 얘는 큰 값 반환\n",
    "* 숫자 대신 리스트를 넣어도 된다!"
   ]
  },
  {
   "cell_type": "code",
   "execution_count": 2,
   "id": "03b448e9-9d99-40b8-b40c-31dc465999ea",
   "metadata": {},
   "outputs": [
    {
     "name": "stdout",
     "output_type": "stream",
     "text": [
      "min : 2\n",
      "max : 7\n",
      "max(list) : 7\n"
     ]
    }
   ],
   "source": [
    "print(\"min :\", min(7,3,5,2))\n",
    "print(\"max :\", max(7,3,5,2))\n",
    "print(\"max(list) :\", max([7,3,5,2]))"
   ]
  },
  {
   "cell_type": "markdown",
   "id": "6cca811b-512c-4584-9f15-eb0c14b8f732",
   "metadata": {},
   "source": [
    "* eval() : 수학 수식이 문자열로 들어오면 해당 수식을 계산한 결과 반환"
   ]
  },
  {
   "cell_type": "code",
   "execution_count": 3,
   "id": "c5d2bb29-4498-4af4-be2b-af86637f2ba8",
   "metadata": {},
   "outputs": [
    {
     "name": "stdout",
     "output_type": "stream",
     "text": [
      "56\n"
     ]
    }
   ],
   "source": [
    "result = eval(\"(3+5)*7\")\n",
    "print(result)"
   ]
  },
  {
   "cell_type": "markdown",
   "id": "27f88377-3e26-4498-872b-8fd41f56efe1",
   "metadata": {},
   "source": [
    "* sorted() : iterable 객체가 들어왔을 때 정렬된 결과 반환\n",
    "    * key 속성으로 정렬 기준 명시\n",
    "    * reverse 속성으로 정렬된 결과 리스트 뒤집기 가능"
   ]
  },
  {
   "cell_type": "code",
   "execution_count": 4,
   "id": "5133b1ff-adfc-4aeb-b438-e0577d3e236d",
   "metadata": {},
   "outputs": [
    {
     "name": "stdout",
     "output_type": "stream",
     "text": [
      "[1, 4, 5, 8, 9]\n",
      "[9, 8, 5, 4, 1]\n"
     ]
    }
   ],
   "source": [
    "result = sorted([9,1,8,5,4]) # 오름차순 정렬\n",
    "print(result)\n",
    "result = sorted([9,1,8,5,4], reverse=True) # 내림차순 정렬\n",
    "print(result)"
   ]
  },
  {
   "cell_type": "markdown",
   "id": "22426cab-ff2d-4210-a8e6-4701f9aa4e85",
   "metadata": {},
   "source": [
    "* key 속성 기준으로도 정렬 가능\n",
    "* 예 : 리스트 `[('홍길동', 35), ('이순신', 75), ('홍길동', 35)]` 를 튜플의 2번째 원소(수) 기준 내림차순 정렬"
   ]
  },
  {
   "cell_type": "code",
   "execution_count": 5,
   "id": "93b980f0-a3d2-45b1-bb6c-4805ee1b9bec",
   "metadata": {},
   "outputs": [
    {
     "name": "stdout",
     "output_type": "stream",
     "text": [
      "[('이순신', 75), ('아무개', 50), ('홍길동', 35)]\n"
     ]
    }
   ],
   "source": [
    "result = sorted([('홍길동', 35), ('이순신', 75), ('아무개', 50)], key = lambda x: x[1], reverse=True)\n",
    "print(result)"
   ]
  },
  {
   "cell_type": "code",
   "execution_count": 6,
   "id": "c7ebf870-1712-405d-9ed9-ee277cf88bea",
   "metadata": {},
   "outputs": [
    {
     "name": "stdout",
     "output_type": "stream",
     "text": [
      "[1, 4, 5, 8, 9]\n"
     ]
    }
   ],
   "source": [
    "data = [9,1,8,5,4]\n",
    "data.sort()\n",
    "print(data)"
   ]
  },
  {
   "cell_type": "markdown",
   "id": "184c6b16-cb1d-4af8-86a5-d0239dc38184",
   "metadata": {},
   "source": [
    "## 6.2 itertools\n",
    "* 파이썬에서 반복되는 데이터를 처리하는 기능을 포함하고 있는 라이브러리\n",
    "* 가장 유용한 클래스 : permutations, combinations\n",
    "### 6.2.1 permutations\n",
    "* iterable 객체에서 r개의 데이터를 뽑아 일렬로 나열하는 모든 경우의 수\n",
    "* 클래스이므로 객체 초기화 이후에는 리스트 자료형으로 변환해 사용\n",
    "* 예 : 리스트 `['A', 'B', 'C']`에서 3개(r=3)를 뽑아 나열하는 모든 경우의 수"
   ]
  },
  {
   "cell_type": "code",
   "execution_count": 7,
   "id": "5eae2fce-90b3-4068-bb04-5c682dab94f0",
   "metadata": {},
   "outputs": [
    {
     "name": "stdout",
     "output_type": "stream",
     "text": [
      "[('A', 'B', 'C'), ('A', 'C', 'B'), ('B', 'A', 'C'), ('B', 'C', 'A'), ('C', 'A', 'B'), ('C', 'B', 'A')]\n"
     ]
    }
   ],
   "source": [
    "from itertools import permutations\n",
    "\n",
    "# 데이터 준비\n",
    "data = ['A','B','C']\n",
    "\n",
    "# 모든 순열 구하기\n",
    "result = list(permutations(data, 3))\n",
    "print(result)\n"
   ]
  },
  {
   "cell_type": "markdown",
   "id": "3529a6e7-72d5-4983-9368-964030b30e67",
   "metadata": {},
   "source": [
    "### 6.2.2 combinations\n",
    "* iterable 객체에서 r개의 데이터를 뽑아 순서를 고려하지 않고 나열하는 모든 경우(조합)의 수\n",
    "* 얘도 클래스이므로 객체 초기화 이후에는 리스트 자료형으로 변환해 사용\n",
    "* 예 : 리스트 `['A', 'B', 'C']`에서 2개(r=2)를 뽑아 순서에 상관 없이 나열하는 모든 경우"
   ]
  },
  {
   "cell_type": "code",
   "execution_count": 8,
   "id": "56caf52a-4449-4059-825c-fe6f75c207e4",
   "metadata": {},
   "outputs": [
    {
     "name": "stdout",
     "output_type": "stream",
     "text": [
      "[('A', 'B'), ('A', 'C'), ('B', 'C')]\n"
     ]
    }
   ],
   "source": [
    "from itertools import combinations\n",
    "\n",
    "# 데이터 준비\n",
    "data = ['A','B','C']\n",
    "\n",
    "# 2개를 뽑는 모든 조합 구하기\n",
    "result = list(combinations(data,2))\n",
    "print(result)"
   ]
  },
  {
   "cell_type": "markdown",
   "id": "2d59506c-d4f1-4bee-98f5-975789695cd1",
   "metadata": {},
   "source": [
    "* 예 : 리스트 `['A', 'B', 'C']`에서 중복을 포함해 2개(r=2)를 뽑아 나열하는 모든 경우의 수"
   ]
  },
  {
   "cell_type": "code",
   "execution_count": 9,
   "id": "f0971933-d14e-4080-8557-0ce0d213ec90",
   "metadata": {},
   "outputs": [
    {
     "name": "stdout",
     "output_type": "stream",
     "text": [
      "[('A', 'A'), ('A', 'B'), ('A', 'C'), ('B', 'A'), ('B', 'B'), ('B', 'C'), ('C', 'A'), ('C', 'B'), ('C', 'C')]\n"
     ]
    }
   ],
   "source": [
    "from itertools import product\n",
    "\n",
    "# 데이터 준비\n",
    "data = ['A','B','C']\n",
    "\n",
    "# 2개를 뽑는 모든 순열 구하기(중복 허용)\n",
    "result = list(product(data, repeat=2))\n",
    "print(result)"
   ]
  },
  {
   "cell_type": "markdown",
   "id": "30328db1-3af3-4e32-8d76-e73d5c287f71",
   "metadata": {},
   "source": [
    "### 6.2.3 combinations_with_replacement\n",
    "* combinations와 같이 리스트와 같은 iterable 객체에서 r개의 데이터를 뽑아 순서를 고려하지 않고 나열하는 모든 경우(조합)를 계산. 다만 원소를 중복해서 뽑는다.\n",
    "* 얘도 클래스이므로 객체 초기화 이후에는 리스트 자료형으로 변환해 사용\n",
    "* 예 : 리스트 `['A', 'B', 'C']`에서 중복을 포함해 2개(r=2)를 뽑아 순서에 상관 없이 나열하는 모든 경우"
   ]
  },
  {
   "cell_type": "code",
   "execution_count": 10,
   "id": "1e4140dd-9a54-4c14-af80-69cb1bced654",
   "metadata": {},
   "outputs": [
    {
     "name": "stdout",
     "output_type": "stream",
     "text": [
      "[('A', 'A'), ('A', 'B'), ('A', 'C'), ('B', 'B'), ('B', 'C'), ('C', 'C')]\n"
     ]
    }
   ],
   "source": [
    "from itertools import combinations_with_replacement\n",
    "\n",
    "# 데이터 준비\n",
    "data = ['A', 'B', 'C']\n",
    "\n",
    "# 2개를 뽑는 모든 조합 구하기(중복 허용)\n",
    "result = list(combinations_with_replacement(data,2))\n",
    "print(result)"
   ]
  },
  {
   "cell_type": "markdown",
   "id": "8669a4b9-83c3-4aef-be23-968ee68b6624",
   "metadata": {},
   "source": [
    "## 6.3 heapq\n",
    "* 다익스트라 최단 경로 알고리즘 포함 다양한 알고리즘에서 우선순위 큐 기능 구현할 때 사용\n",
    "* PriorityQueue 라이브러리도 있는데 heapq가 더 빠르다.\n",
    "* 파이썬의 힙은 최소 힙으로 구성된다. 그래서 힙에 전부 넣었다 빼는 것도 $O(nlogn)$ 정도로 오름차순 정렬 완료 가능.\n",
    "* 원소 삽입 : heapq.heappush()\n",
    "* 원소 꺼내기 : heapq.heappop()\n",
    "* 예 : 힙 정렬을 heapq로 구현"
   ]
  },
  {
   "cell_type": "code",
   "execution_count": 11,
   "id": "23c4a200-7052-4a5b-b2fd-566423e77be9",
   "metadata": {},
   "outputs": [
    {
     "name": "stdout",
     "output_type": "stream",
     "text": [
      "[9, 8, 7, 6, 5, 4, 3, 2, 1, 0]\n"
     ]
    }
   ],
   "source": [
    "import heapq\n",
    "\n",
    "def heapsort(iterable) :\n",
    "    h = []\n",
    "    result = []\n",
    "    \n",
    "    # 모든 원소를 차례대로 힙에 삽입\n",
    "    for value in iterable :\n",
    "        heapq.heappush(h, -value)\n",
    "    \n",
    "    # 힙에 삽입된 모든 원소를 차례대로 꺼내어 담기\n",
    "    for i in range(len(h)) :\n",
    "        result.append(-heapq.heappop(h))\n",
    "    \n",
    "    return result\n",
    "\n",
    "result = heapsort([1,3,5,7,9,2,4,6,8,0])\n",
    "print(result)"
   ]
  },
  {
   "cell_type": "markdown",
   "id": "e49008f7-3076-4579-b40e-158c3f3053db",
   "metadata": {},
   "source": [
    "## 6.4 bisect\n",
    "* 이진 탐색 쉽게 구현 가능. 특히 '정렬된 배열'에서 특정 원소를 찾을 때 효과적\n",
    "* `bisect_left()`, `bisect_right()` 함수가 중요. → 복잡도 $O(logn)$.\n",
    "    * `bisect_left(a,x)` : 정렬된 순서를 유지하도록 리스트 a에 데이터 x를 삽입할 가장 왼쪽 인덱스를 찾는 메소드\n",
    "    * `bisect_right(a,x)` : 정렬된 순서를 유지하도록 리스트 a에 데이터 x를 삽입할 가장 오른쪽 인덱스를 찾는 메소드\n",
    "* 예 : 정렬된 리스트 [1,2,4,4,8]에서 새롭게 데이터 4 삽입.    "
   ]
  },
  {
   "cell_type": "code",
   "execution_count": 12,
   "id": "52818a88-d59d-4e1f-9eb0-a764de55e13c",
   "metadata": {},
   "outputs": [
    {
     "name": "stdout",
     "output_type": "stream",
     "text": [
      "2\n",
      "4\n"
     ]
    }
   ],
   "source": [
    "from bisect import bisect_left, bisect_right\n",
    "\n",
    "a = [1,2,4,4,8]\n",
    "x = 4\n",
    "\n",
    "print(bisect_left(a,x))\n",
    "print(bisect_right(a,x))"
   ]
  },
  {
   "cell_type": "markdown",
   "id": "4806c014-c032-4a00-b361-4e3f980ff8e8",
   "metadata": {},
   "source": [
    "* `bisect_left()`와 `bisect_right()`함수는 '값이 특정 범위에 속하는 원소의 개수' 구할 때도 효과적."
   ]
  },
  {
   "cell_type": "code",
   "execution_count": 13,
   "id": "ca545481-82e7-499a-ab6a-084708c5eff5",
   "metadata": {},
   "outputs": [
    {
     "name": "stdout",
     "output_type": "stream",
     "text": [
      "2\n",
      "6\n"
     ]
    }
   ],
   "source": [
    "from bisect import bisect_left, bisect_right\n",
    "\n",
    "# 값이 [left_value, right_value]인 데이터의 개수를 반환하는 함수\n",
    "def count_by_range(a, left_value, right_value) :\n",
    "    right_index = bisect_right(a, right_value)\n",
    "    left_index = bisect_left(a, left_value)\n",
    "    return right_index - left_index\n",
    "\n",
    "# 리스트 선언\n",
    "a = [1,2,3,3,3,3,4,4,8,9]\n",
    "\n",
    "# 값이 4인 데이터 개수 출력\n",
    "print(count_by_range(a,4,4))\n",
    "\n",
    "# 값이 [-1,3] 범위에 있는 데이터 개수 출력\n",
    "print(count_by_range(a,-1,3))"
   ]
  },
  {
   "cell_type": "markdown",
   "id": "7d66e695-5def-449a-b067-207b9a990acc",
   "metadata": {},
   "source": [
    "## 6.5 collections\n",
    "* 유용한 자료 구조를 제공하는 표준 라이브러리\n",
    "* deque, Counter가 특히 유용(C가 대문자임에 주의!)\n",
    "    * 파이썬에서는 보통 deque로 큐 구현\n",
    "\n",
    "### 6.5.1 deque\n",
    "* 리스트와 다르게 인덱싱, 슬라이싱 기능 사용 불가\n",
    "* `popleft()` : 1번째 원소 제거\n",
    "* `pop()` : 마지막 원소 제거\n",
    "* `append()` : 마지막 인덱스에 원소 삽입"
   ]
  },
  {
   "cell_type": "code",
   "execution_count": 14,
   "id": "fe93e7f8-fd10-44b5-ba60-e8c7a6ba852d",
   "metadata": {},
   "outputs": [
    {
     "name": "stdout",
     "output_type": "stream",
     "text": [
      "deque([1, 2, 3, 4, 5])\n",
      "[1, 2, 3, 4, 5]\n"
     ]
    }
   ],
   "source": [
    "from collections import deque\n",
    "\n",
    "data = deque([2,3,4])\n",
    "data.appendleft(1)\n",
    "data.append(5)\n",
    "\n",
    "print(data)\n",
    "\n",
    "# 리스트 자료형으로 변환\n",
    "print(list(data))"
   ]
  },
  {
   "cell_type": "markdown",
   "id": "630243cd-d7a7-4f0c-9ec1-c6e5fe9baddb",
   "metadata": {},
   "source": [
    "### 6.5.2 Counter\n",
    "* C가 대문자임에 주의!\n",
    "* 등장 횟수 세는 기능 제공\n",
    "* 리스트와 같은 iterable 객체가 주어졌을 때, 해당 객체 내부의 원소가 몇 번씩 등장했는지를 알려줌.\n",
    "* 따라서 원소별 등장 횟수를 세는 기능이 필요할 때 짧은 소스 코드르 구현 가능"
   ]
  },
  {
   "cell_type": "code",
   "execution_count": 15,
   "id": "6e7e4026-1046-4735-924f-5d2ee392c316",
   "metadata": {},
   "outputs": [
    {
     "name": "stdout",
     "output_type": "stream",
     "text": [
      "blue : 3\n",
      "green : 1\n",
      "blue & green : 0\n",
      "{'red': 2, 'blue': 3, 'green': 1}\n"
     ]
    }
   ],
   "source": [
    "from collections import Counter\n",
    "counter = Counter(['red', 'blue', 'red', 'green', 'blue', 'blue'])\n",
    "\n",
    "# blue가 등장한 횟수 출력\n",
    "print(\"blue :\", counter['blue'])\n",
    "\n",
    "# green이 등장한 횟수 출력\n",
    "print(\"green :\", counter['green'])\n",
    "\n",
    "# blue와 green을 동시에 입력하면?\n",
    "print(\"blue & green :\", counter['blue', 'green'])\n",
    "\n",
    "# 사전 자료형으로 변환\n",
    "print(dict(counter))"
   ]
  },
  {
   "cell_type": "markdown",
   "id": "c97d5972-e475-4e72-a629-30bb25af9c34",
   "metadata": {},
   "source": [
    "## 6.6 math\n",
    "* 수학적 기능 포함 라이브러리 (예: 팩토리얼, 제곱근, 최대공약수(GCD) 등)\n",
    "* `factorial(x)` : x!값 반환"
   ]
  },
  {
   "cell_type": "code",
   "execution_count": 16,
   "id": "750af43a-e2e8-4c95-af83-5c435a438966",
   "metadata": {
    "tags": []
   },
   "outputs": [
    {
     "name": "stdout",
     "output_type": "stream",
     "text": [
      "120\n"
     ]
    }
   ],
   "source": [
    "import math\n",
    "print(math.factorial(5))"
   ]
  },
  {
   "cell_type": "markdown",
   "id": "5f5449f2-41d8-4df9-8bb4-d60edf3543af",
   "metadata": {},
   "source": [
    "* `sqrt(x)` : x의 제곱근 반환"
   ]
  },
  {
   "cell_type": "code",
   "execution_count": 17,
   "id": "47fdc49c-99fb-4479-81a1-070f9a1a46fa",
   "metadata": {},
   "outputs": [
    {
     "name": "stdout",
     "output_type": "stream",
     "text": [
      "2.6457513110645907\n"
     ]
    }
   ],
   "source": [
    "import math\n",
    "print(math.sqrt(7))"
   ]
  },
  {
   "cell_type": "markdown",
   "id": "9244db3e-5c57-43fc-be98-6ae6f428cb7c",
   "metadata": {},
   "source": [
    "* `gcd(a,b)` : 최대 공약수 반환"
   ]
  },
  {
   "cell_type": "code",
   "execution_count": 18,
   "id": "4947c6b2-09ba-4fb6-934f-1089af1ad718",
   "metadata": {},
   "outputs": [
    {
     "name": "stdout",
     "output_type": "stream",
     "text": [
      "7\n"
     ]
    }
   ],
   "source": [
    "import math\n",
    "print(math.gcd(21,14))"
   ]
  },
  {
   "cell_type": "markdown",
   "id": "b4747169-bb67-4ba5-8d21-ad537cf7d0b1",
   "metadata": {},
   "source": [
    "* pi, e 등 자주 사용하는 상수"
   ]
  },
  {
   "cell_type": "code",
   "execution_count": 19,
   "id": "33101874-7afb-48aa-b2c1-90565b09919c",
   "metadata": {},
   "outputs": [
    {
     "name": "stdout",
     "output_type": "stream",
     "text": [
      "pi : 3.141592653589793\n",
      "e:  2.718281828459045\n"
     ]
    }
   ],
   "source": [
    "import math\n",
    "print(\"pi :\", math.pi)\n",
    "print(\"e: \", math.e)"
   ]
  }
 ],
 "metadata": {
  "kernelspec": {
   "display_name": "Python 3 (ipykernel)",
   "language": "python",
   "name": "python3"
  },
  "language_info": {
   "codemirror_mode": {
    "name": "ipython",
    "version": 3
   },
   "file_extension": ".py",
   "mimetype": "text/x-python",
   "name": "python",
   "nbconvert_exporter": "python",
   "pygments_lexer": "ipython3",
   "version": "3.7.11"
  }
 },
 "nbformat": 4,
 "nbformat_minor": 5
}
