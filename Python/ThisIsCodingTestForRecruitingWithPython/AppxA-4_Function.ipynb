{
 "cells": [
  {
   "cell_type": "markdown",
   "id": "3758763d-a7fb-4a1c-95d8-002a54047088",
   "metadata": {},
   "source": [
    "# 부록 A-4 함수\n",
    "* 기본 형태\n",
    "```\n",
    "def 함수명(매개변수) :\n",
    "    실행할 소스 코드\n",
    "    return 반환값\n",
    "```"
   ]
  },
  {
   "cell_type": "code",
   "execution_count": 7,
   "id": "2f8dc163-8a4d-4bfb-88c8-da2dcb86906d",
   "metadata": {},
   "outputs": [
    {
     "name": "stdout",
     "output_type": "stream",
     "text": [
      "10\n"
     ]
    }
   ],
   "source": [
    "# 더하기 기능\n",
    "def add(a,b) :\n",
    "    return a+b\n",
    "print(add(3,7))"
   ]
  },
  {
   "cell_type": "code",
   "execution_count": 8,
   "id": "c2c32535-e2c4-48d2-8a41-6723c4699237",
   "metadata": {},
   "outputs": [
    {
     "name": "stdout",
     "output_type": "stream",
     "text": [
      "함수의 결과 : 10\n"
     ]
    }
   ],
   "source": [
    "# return 없이 함수 정의\n",
    "def add(a,b) :\n",
    "    print(\"함수의 결과 :\", a+b)\n",
    "add(3,7)"
   ]
  },
  {
   "cell_type": "code",
   "execution_count": 9,
   "id": "4b1b4f90-0e95-4be9-9a3f-e8e466813512",
   "metadata": {},
   "outputs": [
    {
     "name": "stdout",
     "output_type": "stream",
     "text": [
      "10\n"
     ]
    }
   ],
   "source": [
    "# global 키워드로 함수 밖의 변수 참조\n",
    "a = 0\n",
    "def func() :\n",
    "    global a\n",
    "    a += 1\n",
    "\n",
    "for i in range(10) :\n",
    "    func()\n",
    "\n",
    "print(a)"
   ]
  },
  {
   "cell_type": "code",
   "execution_count": 10,
   "id": "68b5539c-5420-4439-9d3c-8cb1e47213a2",
   "metadata": {},
   "outputs": [
    {
     "name": "stdout",
     "output_type": "stream",
     "text": [
      "add(3,7) : 10\n",
      "lambda : 10\n"
     ]
    }
   ],
   "source": [
    "# lambda를 활용해 간단하게 함수 정의\n",
    "def add(a,b) :\n",
    "    return a+b\n",
    "\n",
    "# 일반적인 add() 메서드 사용\n",
    "print(\"add(3,7) :\", add(3,7))\n",
    "\n",
    "# lambda 표현식으로 구현된 add() 메서드\n",
    "print(\"lambda :\", (lambda a,b: a+b)(3,7))"
   ]
  },
  {
   "cell_type": "code",
   "execution_count": null,
   "id": "d0709cc9-4974-4d18-9c3a-19119529ac4a",
   "metadata": {},
   "outputs": [],
   "source": []
  }
 ],
 "metadata": {
  "kernelspec": {
   "display_name": "Python 3 (ipykernel)",
   "language": "python",
   "name": "python3"
  },
  "language_info": {
   "codemirror_mode": {
    "name": "ipython",
    "version": 3
   },
   "file_extension": ".py",
   "mimetype": "text/x-python",
   "name": "python",
   "nbconvert_exporter": "python",
   "pygments_lexer": "ipython3",
   "version": "3.7.11"
  }
 },
 "nbformat": 4,
 "nbformat_minor": 5
}
