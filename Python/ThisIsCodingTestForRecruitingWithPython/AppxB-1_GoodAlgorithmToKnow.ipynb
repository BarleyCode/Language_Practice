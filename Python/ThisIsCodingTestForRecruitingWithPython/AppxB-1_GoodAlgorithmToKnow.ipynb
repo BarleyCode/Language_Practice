{
 "cells": [
  {
   "cell_type": "markdown",
   "id": "019ef34a-de6e-47a7-b74f-0f912055f22a",
   "metadata": {},
   "source": [
    "# 부록 B-1 더 알아두면 좋은 알고리즘\n",
    "\n",
    "## 1.1 소수의 판별\n",
    "* 가장 간단한 방법 : X가 주어지면 2부터 X-1까지 나누었을 때 나누어떨어지는 수가 존재하는지 확인. 대신 비효율적"
   ]
  },
  {
   "cell_type": "code",
   "execution_count": 3,
   "id": "191bb6e3-c4fb-4d7d-b7d2-d097e9a2bf1f",
   "metadata": {},
   "outputs": [
    {
     "name": "stdout",
     "output_type": "stream",
     "text": [
      "False\n",
      "True\n"
     ]
    }
   ],
   "source": [
    "# 소수 판별 함수. 간단한데 비효율적\n",
    "def is_prime_number(x) :\n",
    "    # 2부터 (x-1)까지의 모든 수를 확인하며\n",
    "    for i in range(2,x) :\n",
    "        # x가 해당 수로 나누어떨어지지 않으면\n",
    "        if (x%i == 0) :\n",
    "            return False\n",
    "        return True\n",
    "\n",
    "print(is_prime_number(4))\n",
    "print(is_prime_number(7))"
   ]
  },
  {
   "cell_type": "code",
   "execution_count": null,
   "id": "70a2d8e1-07b0-4698-8d58-4f143ab467f9",
   "metadata": {},
   "outputs": [],
   "source": []
  }
 ],
 "metadata": {
  "kernelspec": {
   "display_name": "Python 3 (ipykernel)",
   "language": "python",
   "name": "python3"
  },
  "language_info": {
   "codemirror_mode": {
    "name": "ipython",
    "version": 3
   },
   "file_extension": ".py",
   "mimetype": "text/x-python",
   "name": "python",
   "nbconvert_exporter": "python",
   "pygments_lexer": "ipython3",
   "version": "3.7.11"
  }
 },
 "nbformat": 4,
 "nbformat_minor": 5
}
