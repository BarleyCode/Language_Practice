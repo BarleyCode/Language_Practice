{
 "cells": [
  {
   "cell_type": "markdown",
   "id": "5a207b50",
   "metadata": {},
   "source": [
    "# 부록 A-1 자료형\n",
    "\n",
    "## 1.1 수 자료형\n",
    "\n",
    "### 1.1.2 실수형"
   ]
  },
  {
   "cell_type": "code",
   "execution_count": 1,
   "id": "d7eb2ed1",
   "metadata": {},
   "outputs": [
    {
     "name": "stdout",
     "output_type": "stream",
     "text": [
      "-1837.2\n"
     ]
    }
   ],
   "source": [
    "# 음의 실수\n",
    "a = -1837.2\n",
    "print(a)"
   ]
  },
  {
   "cell_type": "code",
   "execution_count": 2,
   "id": "7ea3e1ae",
   "metadata": {},
   "outputs": [
    {
     "name": "stdout",
     "output_type": "stream",
     "text": [
      "5.0\n"
     ]
    }
   ],
   "source": [
    "# 소수부가 0일 때 0을 생략\n",
    "a = 5.\n",
    "print(a)"
   ]
  },
  {
   "cell_type": "code",
   "execution_count": 3,
   "id": "829b1494",
   "metadata": {},
   "outputs": [
    {
     "name": "stdout",
     "output_type": "stream",
     "text": [
      "-0.7\n"
     ]
    }
   ],
   "source": [
    "# 정수부가 0일 때 0을 생략\n",
    "a = -.7\n",
    "print(a)"
   ]
  },
  {
   "cell_type": "code",
   "execution_count": 4,
   "id": "7b5538a9",
   "metadata": {},
   "outputs": [
    {
     "name": "stdout",
     "output_type": "stream",
     "text": [
      "1000000000.0\n"
     ]
    }
   ],
   "source": [
    "# 10억의 지수 표현 방식\n",
    "a = 1e9\n",
    "print(a)"
   ]
  },
  {
   "cell_type": "code",
   "execution_count": 5,
   "id": "5c20c541",
   "metadata": {},
   "outputs": [
    {
     "name": "stdout",
     "output_type": "stream",
     "text": [
      "752.5\n"
     ]
    }
   ],
   "source": [
    "# 752.5\n",
    "a = 75.25e1\n",
    "print(a)"
   ]
  },
  {
   "cell_type": "code",
   "execution_count": 6,
   "id": "89072958",
   "metadata": {},
   "outputs": [
    {
     "name": "stdout",
     "output_type": "stream",
     "text": [
      "3.954\n"
     ]
    }
   ],
   "source": [
    "# 3.954\n",
    "a = 3954e-3\n",
    "print(a)"
   ]
  },
  {
   "cell_type": "code",
   "execution_count": 7,
   "id": "479a9eed",
   "metadata": {},
   "outputs": [
    {
     "name": "stdout",
     "output_type": "stream",
     "text": [
      "round함수 이용 : 0.9\n",
      "True\n"
     ]
    }
   ],
   "source": [
    "# round함수 이용\n",
    "a = 0.3 + 0.6\n",
    "print(\"round함수 이용 :\", round(a,4))\n",
    "if round(a,4) == 0.9:\n",
    "\tprint(True)\n",
    "else: \n",
    "\tprint(False)"
   ]
  },
  {
   "cell_type": "markdown",
   "id": "7548363d",
   "metadata": {},
   "source": [
    "### 1.1.3 수 자료형의 연산\n",
    "* 꼭 알기\n",
    "    * 몫 연산자 (//) : 나눈 결과에서 몫만 얻기"
   ]
  },
  {
   "cell_type": "code",
   "execution_count": 8,
   "id": "94323399",
   "metadata": {},
   "outputs": [
    {
     "name": "stdout",
     "output_type": "stream",
     "text": [
      "a/b = 2.3333333333333335\n",
      "a%b = 1\n",
      "a//b = 2\n"
     ]
    }
   ],
   "source": [
    "a,b = 7,3\n",
    "# 나누기\n",
    "print(\"a/b =\", a/b)\n",
    "\n",
    "# 나머지\n",
    "print(\"a%b =\", a%b)\n",
    "\n",
    "# 몫\n",
    "print(\"a//b =\", a//b)"
   ]
  },
  {
   "cell_type": "markdown",
   "id": "df83ce65",
   "metadata": {},
   "source": [
    "## 1.2 리스트 자료형\n",
    "\n",
    "### 1.2.1 리스트 만들기"
   ]
  },
  {
   "cell_type": "code",
   "execution_count": 9,
   "id": "9641850a",
   "metadata": {},
   "outputs": [
    {
     "name": "stdout",
     "output_type": "stream",
     "text": [
      "a : [1, 2, 3, 4, 5, 6, 7, 8, 9]\n",
      "a[4] : 5\n",
      "a : []\n",
      "a : []\n"
     ]
    }
   ],
   "source": [
    "# 예제 : 1~9까지 모든 정수 데이터를 담는 리스트를 만든 다음 특정한 인덱스의 원소에 접근해 출력\n",
    "a = [1,2,3,4,5,6,7,8,9]\n",
    "print(\"a :\", a)\n",
    "\n",
    "# 인덱스 4에 접근(5번째 원소)\n",
    "print(\"a[4] :\", a[4])\n",
    "\n",
    "# 빈 리스트 선언 방법 1\n",
    "a = list()\n",
    "print(\"a :\", a)\n",
    "\n",
    "# 빈 리스트 선언 방법 2\n",
    "a = []\n",
    "print(\"a :\", a)\n",
    "\n"
   ]
  },
  {
   "cell_type": "code",
   "execution_count": 10,
   "id": "b97ee0df",
   "metadata": {},
   "outputs": [
    {
     "name": "stdout",
     "output_type": "stream",
     "text": [
      "a : [0, 0, 0, 0, 0, 0, 0, 0, 0, 0]\n"
     ]
    }
   ],
   "source": [
    "# 크기 N, 모든 값이 0인 1차원 리스트 초기화\n",
    "n = 10\n",
    "a = [0]*n\n",
    "print(\"a :\", a)"
   ]
  },
  {
   "cell_type": "markdown",
   "id": "570cc68d",
   "metadata": {},
   "source": [
    "### 1.2.2 리스트의 인덱싱과 슬라이싱"
   ]
  },
  {
   "cell_type": "code",
   "execution_count": 11,
   "id": "1e1b8b92",
   "metadata": {},
   "outputs": [
    {
     "name": "stdout",
     "output_type": "stream",
     "text": [
      "9\n",
      "7\n",
      "a : [1, 2, 3, 7, 5, 6, 7, 8, 9]\n"
     ]
    }
   ],
   "source": [
    "# 인덱싱으로 특정 원소 접근 후 값 변경\n",
    "a = [1,2,3,4,5,6,7,8,9]\n",
    "\n",
    "# 뒤에서 1번째 원소 출력\n",
    "print(a[-1])\n",
    "\n",
    "# 뒤에서 3번째 원소 출력\n",
    "print(a[-3])\n",
    "\n",
    "# 4번째 원소 값 변경\n",
    "a[3] = 7\n",
    "print(\"a :\", a)"
   ]
  },
  {
   "cell_type": "code",
   "execution_count": 12,
   "id": "bc9d4e19",
   "metadata": {},
   "outputs": [
    {
     "name": "stdout",
     "output_type": "stream",
     "text": [
      "[2, 3, 4]\n"
     ]
    }
   ],
   "source": [
    "# 2~4번째 원소 출력\n",
    "a = [1,2,3,4,5,6,7,8,9]\n",
    "print(a[1:4])"
   ]
  },
  {
   "cell_type": "markdown",
   "id": "93be1e54-3ee1-4769-a0ba-7f8f808187da",
   "metadata": {},
   "source": [
    "### 1.2.3 리스트 컴프리헨션"
   ]
  },
  {
   "cell_type": "code",
   "execution_count": 13,
   "id": "2f10eac9-de34-4f12-ad08-848e93c73fe8",
   "metadata": {},
   "outputs": [
    {
     "name": "stdout",
     "output_type": "stream",
     "text": [
      "array : [1, 3, 5, 7, 9, 11, 13, 15, 17, 19]\n"
     ]
    }
   ],
   "source": [
    "# 0부터 19까지 수 중 홀수만 포함\n",
    "array = [i for i in range(20) if i%2 == 1]\n",
    "print(\"array :\", array)"
   ]
  },
  {
   "cell_type": "code",
   "execution_count": 14,
   "id": "61e4023b-67a9-4fe9-90ac-c17c6bab5144",
   "metadata": {},
   "outputs": [
    {
     "name": "stdout",
     "output_type": "stream",
     "text": [
      "array : [1, 4, 9, 16, 25, 36, 49, 64, 81]\n"
     ]
    }
   ],
   "source": [
    "# 1부터 9까지 수의 제곱 값을 포함\n",
    "array = [i * i for i in range(1,10)]\n",
    "print(\"array :\", array)"
   ]
  },
  {
   "cell_type": "code",
   "execution_count": 15,
   "id": "4e9561ed-48ff-4309-bdba-8af25e31ed00",
   "metadata": {},
   "outputs": [
    {
     "name": "stdout",
     "output_type": "stream",
     "text": [
      "array : [[0, 0, 0, 0], [0, 0, 0, 0], [0, 0, 0, 0]]\n"
     ]
    }
   ],
   "source": [
    "# N * M 크기의 2차원 리스트 초기화\n",
    "# for문의 언더바(_) : 반복을 수행하되 반복을 위한 변수 값 무시\n",
    "n,m=3,4\n",
    "array = [[0]*m for _ in range(n)]\n",
    "print(\"array :\", array)"
   ]
  },
  {
   "cell_type": "markdown",
   "id": "52d9fa67-6417-485b-88bd-fe0b225c3c82",
   "metadata": {},
   "source": [
    "* 특정 크기의 2차원 리스트 초기화 시 반드시 리스트 컴프리헨션 이용"
   ]
  },
  {
   "cell_type": "code",
   "execution_count": 16,
   "id": "8f7bb75c-ff39-4dde-ab27-3f15019c6914",
   "metadata": {},
   "outputs": [
    {
     "name": "stdout",
     "output_type": "stream",
     "text": [
      "array : [[0, 0, 0, 0], [0, 0, 0, 0], [0, 0, 0, 0]]\n",
      "array : [[0, 5, 0, 0], [0, 5, 0, 0], [0, 5, 0, 0]]\n"
     ]
    }
   ],
   "source": [
    "# 잘못된 방법\n",
    "# 원인 : 내부적으로 포함된 3개의 리스트가 모두 동일한 객체에 대한 3개의 레퍼런스로 인식되기 때문(리스트 밖에서 n을 곱했다)\n",
    "n,m = 3,4\n",
    "array = [[0] * m] * n\n",
    "print(\"array :\", array)\n",
    "\n",
    "array[1][1] = 5\n",
    "print(\"array :\", array)"
   ]
  },
  {
   "cell_type": "markdown",
   "id": "c10d953f-a9ea-4236-b1b8-a5f47483cfab",
   "metadata": {},
   "source": [
    "### 1.2.4 리스트 관련 기타 메소드"
   ]
  },
  {
   "cell_type": "code",
   "execution_count": 17,
   "id": "848e2e89-ae68-442a-9ed9-9b4f3a6604c7",
   "metadata": {},
   "outputs": [
    {
     "name": "stdout",
     "output_type": "stream",
     "text": [
      "기본 리스트 : [1, 4, 3]\n",
      "2 삽입 : [1, 4, 3, 2]\n",
      "오름차순 정렬 : [1, 2, 3, 4]\n",
      "내림차순 정렬 : [4, 3, 2, 1]\n",
      "원소 뒤집기 : [1, 2, 3, 4]\n",
      "인덱스 2에 5 추가 : [1, 2, 5, 3, 4]\n",
      "값이 3인 데이터 개수 : 1\n",
      "값이 1인 데이터 삭제 : [2, 5, 3, 4]\n"
     ]
    }
   ],
   "source": [
    "a = [1,4,3]\n",
    "print(\"기본 리스트 :\", a)\n",
    "\n",
    "# 리스트에 원소 삽입\n",
    "a.append(2)\n",
    "print(\"2 삽입 :\", a)\n",
    "\n",
    "# 오름차순 정렬\n",
    "a.sort()\n",
    "print(\"오름차순 정렬 :\", a)\n",
    "\n",
    "# 내림차순 정렬\n",
    "a.sort(reverse=True)\n",
    "print(\"내림차순 정렬 :\", a)\n",
    "\n",
    "# 리스트 원소 뒤집기\n",
    "a.reverse()\n",
    "print(\"원소 뒤집기 :\", a)\n",
    "\n",
    "# 특정 인덱스에 데이터 추가\n",
    "a.insert(2,5)\n",
    "print(\"인덱스 2에 5 추가 :\", a)\n",
    "\n",
    "# 특정 값인 데이터 개수 세기\n",
    "print(\"값이 3인 데이터 개수 :\", a.count(3))\n",
    "\n",
    "# 특정 값 데이터 삭제\n",
    "a.remove(1)\n",
    "print(\"값이 1인 데이터 삭제 :\", a)"
   ]
  },
  {
   "cell_type": "markdown",
   "id": "f58ebc1c-fb2c-4f53-9229-aa073bb1c35f",
   "metadata": {},
   "source": [
    "* 특정한 값의 원소 모두 제거"
   ]
  },
  {
   "cell_type": "code",
   "execution_count": 18,
   "id": "b81cf5de-55a3-4abf-9413-49a716c340cf",
   "metadata": {},
   "outputs": [
    {
     "name": "stdout",
     "output_type": "stream",
     "text": [
      "result : [1, 2, 4]\n"
     ]
    }
   ],
   "source": [
    "a = [1,2,3,4,5,5,5]\n",
    "remove_set = [3,5] # {3,5}라고 해도 된다.\n",
    "\n",
    "# remove_set에 포함되지 않은 값만을 저장\n",
    "result = [i for i in a if i not in remove_set]\n",
    "print(\"result :\", result)"
   ]
  },
  {
   "cell_type": "markdown",
   "id": "47e10752-c7d5-4904-8ed6-1d50f156be28",
   "metadata": {},
   "source": [
    "### 1.2.5 번외 : 리스트 복사"
   ]
  },
  {
   "cell_type": "code",
   "execution_count": 19,
   "id": "fd0bc6cd-cad0-427b-af01-d55559bbd0a8",
   "metadata": {},
   "outputs": [
    {
     "name": "stdout",
     "output_type": "stream",
     "text": [
      "list2 :  [1, 2, 3, 4, 5, 6, 7]\n",
      "list3 :  [1, 2, 3, 4, 5, 6, 7]\n",
      "list2 :  [8, 9, 3, 4, 5, 6, 7]\n",
      "list3 :  [1, 2, 3, 4, 5, 6, 7]\n"
     ]
    }
   ],
   "source": [
    "list1 = [1,2,3,4,5,6,7]\n",
    "list2 = list1      # 얕은 복사\n",
    "list3 = list1[::]  # 깊은 복사\n",
    "\n",
    "# 수정 전\n",
    "print(\"list2 : \", list2)\n",
    "print(\"list3 : \", list3)\n",
    "\n",
    "list1[0] = 8\n",
    "list1[1] = 9\n",
    "\n",
    "# 수정 후\n",
    "print(\"list2 : \", list2)\n",
    "print(\"list3 : \", list3)"
   ]
  },
  {
   "cell_type": "markdown",
   "id": "60a48b21-b7f7-4065-9736-8770b549b368",
   "metadata": {},
   "source": [
    "## 1.3 문자열 자료형\n",
    "\n",
    "### 1.3.1 문자열 초기화"
   ]
  },
  {
   "cell_type": "code",
   "execution_count": 20,
   "id": "b6aa756c-d2e8-4516-9b15-fe75d9bae77e",
   "metadata": {},
   "outputs": [
    {
     "name": "stdout",
     "output_type": "stream",
     "text": [
      "hello world\n",
      "Don't you know \"Python\"?\n"
     ]
    }
   ],
   "source": [
    "data = 'hello world'\n",
    "print(data)\n",
    "\n",
    "# 백슬래시로 큰따옴표, 작은따옴표 여러 번 사용 가능\n",
    "data = \"Don't you know \\\"Python\\\"?\"\n",
    "print(data)\n"
   ]
  },
  {
   "cell_type": "markdown",
   "id": "00cdf9ee-3df5-4bf2-8e2a-0619dea34493",
   "metadata": {},
   "source": [
    "### 1.3.2 문자열 연산"
   ]
  },
  {
   "cell_type": "code",
   "execution_count": 21,
   "id": "680853f1-fdab-4b4f-8953-b3891a2b7f9f",
   "metadata": {},
   "outputs": [
    {
     "name": "stdout",
     "output_type": "stream",
     "text": [
      "Hello World\n"
     ]
    }
   ],
   "source": [
    "a = \"Hello\"\n",
    "b = \"World\"\n",
    "print(a + \" \" + b)"
   ]
  },
  {
   "cell_type": "code",
   "execution_count": 22,
   "id": "ffa4568c-16e2-46e1-9355-9baa25dc4305",
   "metadata": {},
   "outputs": [
    {
     "name": "stdout",
     "output_type": "stream",
     "text": [
      "a 3번 : StringStringString\n"
     ]
    }
   ],
   "source": [
    "# 문자열 곱하기 = 여러 번 더하기\n",
    "a = \"String\"\n",
    "print(\"a 3번 :\", a*3)"
   ]
  },
  {
   "cell_type": "code",
   "execution_count": 23,
   "id": "9ed1dae4-df28-4cb9-92b4-4b10460d3795",
   "metadata": {},
   "outputs": [
    {
     "name": "stdout",
     "output_type": "stream",
     "text": [
      "CD\n"
     ]
    }
   ],
   "source": [
    "# 문자열도 슬라이싱 가능\n",
    "a = \"ABCDEF\"\n",
    "print(a[2:4])"
   ]
  },
  {
   "cell_type": "markdown",
   "id": "8e2ec89c-7308-4eb6-ab23-a17880f3dd73",
   "metadata": {
    "tags": []
   },
   "source": [
    "## 1.4 튜플 자료형\n",
    "* 한 번 선언된 값은 변경 불가\n",
    "* 소괄호 이용 ()"
   ]
  },
  {
   "cell_type": "code",
   "execution_count": 24,
   "id": "d2bba7ee-645a-4958-9187-f7a472a6eb33",
   "metadata": {},
   "outputs": [
    {
     "name": "stdout",
     "output_type": "stream",
     "text": [
      "(1, 2, 3, 4)\n"
     ]
    }
   ],
   "source": [
    "# 튜플 변경 시도\n",
    "a = (1,2,3,4)\n",
    "print(a)\n",
    "# a[2] = 7 -> 여기서 에러 발생"
   ]
  },
  {
   "cell_type": "markdown",
   "id": "a0ebd1f7-655e-41ed-8d0c-ce56839e6766",
   "metadata": {
    "tags": []
   },
   "source": [
    "## 1.5 사전 자료형\n",
    "\n",
    "### 1.5.1 사전 자료형 소개\n",
    "* 키, 값의 쌍을 데이터로 가지는 자료형\n",
    "* 파이썬의 사전 자료형은 내부적으로 해시 테이블을 이용한다. → O(1) 시간 내 처리 가능 (리스트보다 빠름)"
   ]
  },
  {
   "cell_type": "code",
   "execution_count": 25,
   "id": "a46e1bd4-1be0-4ccd-9050-43923fc50027",
   "metadata": {},
   "outputs": [
    {
     "name": "stdout",
     "output_type": "stream",
     "text": [
      "data : {'사과': 'Apple', '바나나': 'Banana', '코코넛': 'Coconut'}\n",
      "'사과'를 키로 가지는 데이터가 존재합니다.\n"
     ]
    }
   ],
   "source": [
    "data = dict()\n",
    "data['사과'] = 'Apple'\n",
    "data['바나나'] = 'Banana'\n",
    "data['코코넛'] = 'Coconut'\n",
    "print(\"data :\", data)\n",
    "\n",
    "if '사과' in data :\n",
    "    print(\"'사과'를 키로 가지는 데이터가 존재합니다.\")"
   ]
  },
  {
   "cell_type": "markdown",
   "id": "5288a4d1-18ac-467b-bf70-d94eb9511f4b",
   "metadata": {
    "tags": []
   },
   "source": [
    "### 1.5.2 사전 자료형 관련 함수\n",
    "* `keys()` : 키 데이터만 뽑아서 리스트로 이용\n",
    "* `values()` : 값 데이터만 뽑아서 리스트로 이용"
   ]
  },
  {
   "cell_type": "code",
   "execution_count": 26,
   "id": "f16e999f-9799-4739-aa5f-631c70051c7b",
   "metadata": {},
   "outputs": [
    {
     "name": "stdout",
     "output_type": "stream",
     "text": [
      "dict_keys(['사과', '바나나', '코코넛'])\n",
      "dict_values(['Apple', 'Banana', 'Coconut'])\n",
      "data[key] : Apple\n",
      "data[key] : Banana\n",
      "data[key] : Coconut\n"
     ]
    }
   ],
   "source": [
    "data = dict()\n",
    "data['사과'] = 'Apple'\n",
    "data['바나나'] = 'Banana'\n",
    "data['코코넛'] = 'Coconut'\n",
    "\n",
    "# 키 데이터만 담은 리스트\n",
    "key_list = data.keys()\n",
    "# 값 데이터만 담은 리스트\n",
    "value_list = data.values()\n",
    "print(key_list)\n",
    "print(value_list)\n",
    "\n",
    "# 각 키에 따른 값을 하나씩 출력\n",
    "for key in key_list :\n",
    "    print(\"data[key] :\", data[key])\n"
   ]
  },
  {
   "cell_type": "markdown",
   "id": "9de651c1-37df-4924-843e-28939536a608",
   "metadata": {},
   "source": [
    "## 1.6 집합 자료형 (Set)\n",
    "\n",
    "### 1.6.1 집합 자료형 소개\n",
    "* 집합 특징\n",
    "    * 중복 허용 X\n",
    "    * 순서 X → 인덱싱으로 값 획득 불가"
   ]
  },
  {
   "cell_type": "code",
   "execution_count": 27,
   "id": "175005d3-c924-4a94-8915-319eb4aab63d",
   "metadata": {},
   "outputs": [
    {
     "name": "stdout",
     "output_type": "stream",
     "text": [
      "data : {1, 2, 3, 4, 5}\n",
      "data : {1, 2, 3, 4, 5}\n"
     ]
    }
   ],
   "source": [
    "# 집합 자료형 초기화 방법 1\n",
    "data = set([1,1,2,3,4,4,5])\n",
    "print(\"data :\", data)\n",
    "\n",
    "# 집합 자료형 초기화 방법 2\n",
    "data = {1,1,2,3,4,4,5}\n",
    "print(\"data :\", data)"
   ]
  },
  {
   "cell_type": "markdown",
   "id": "5573d668-57c8-4ca1-a817-44bba6c810f4",
   "metadata": {},
   "source": [
    "### 1.6.2 집합 자료형의 연산\n",
    "* 합집합, 교집합, 차집합"
   ]
  },
  {
   "cell_type": "code",
   "execution_count": 28,
   "id": "dcfafecc-e04b-4301-bfce-0343c7568188",
   "metadata": {},
   "outputs": [
    {
     "name": "stdout",
     "output_type": "stream",
     "text": [
      "합집합 a|b : {1, 2, 3, 4, 5, 6, 7}\n",
      "교집합 a&b : {3, 4, 5}\n",
      "차집합 a-b : {1, 2}\n"
     ]
    }
   ],
   "source": [
    "a = set([1,2,3,4,5])\n",
    "b = {3,4,5,6,7}\n",
    "\n",
    "print(\"합집합 a|b :\", a|b)\n",
    "print(\"교집합 a&b :\", a&b)\n",
    "print(\"차집합 a-b :\", a-b)"
   ]
  },
  {
   "cell_type": "markdown",
   "id": "e7579141-0ec7-4c3e-92a2-a4885850316d",
   "metadata": {},
   "source": [
    "### 1.6.3 집합 자료형 관련 함수"
   ]
  },
  {
   "cell_type": "code",
   "execution_count": 29,
   "id": "62cad6a8-1a89-4f8b-af79-98af1118b2b3",
   "metadata": {},
   "outputs": [
    {
     "name": "stdout",
     "output_type": "stream",
     "text": [
      "data : {1, 2, 3}\n",
      "data : {1, 2, 3, 4}\n",
      "data : {1, 2, 3, 4, 5, 6}\n",
      "data : {1, 2, 4, 5, 6}\n"
     ]
    }
   ],
   "source": [
    "data = {1,2,3}\n",
    "print(\"data :\", data)\n",
    "\n",
    "# 새로운 원소 추가\n",
    "data.add(4)\n",
    "print(\"data :\", data)\n",
    "\n",
    "# 새로운 원소 여러 개 추가\n",
    "data.update([5,6])\n",
    "print(\"data :\", data)\n",
    "\n",
    "# 특정한 값을 갖는 원소 삭제\n",
    "data.remove(3)\n",
    "print(\"data :\", data)"
   ]
  },
  {
   "cell_type": "code",
   "execution_count": null,
   "id": "d8d6832d-38bf-4f95-a356-b5915de29535",
   "metadata": {},
   "outputs": [],
   "source": []
  }
 ],
 "metadata": {
  "kernelspec": {
   "display_name": "Python 3 (ipykernel)",
   "language": "python",
   "name": "python3"
  },
  "language_info": {
   "codemirror_mode": {
    "name": "ipython",
    "version": 3
   },
   "file_extension": ".py",
   "mimetype": "text/x-python",
   "name": "python",
   "nbconvert_exporter": "python",
   "pygments_lexer": "ipython3",
   "version": "3.7.11"
  }
 },
 "nbformat": 4,
 "nbformat_minor": 5
}
