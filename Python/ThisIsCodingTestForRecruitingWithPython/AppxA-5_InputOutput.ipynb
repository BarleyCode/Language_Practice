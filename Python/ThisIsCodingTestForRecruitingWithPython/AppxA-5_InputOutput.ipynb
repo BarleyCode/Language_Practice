{
 "cells": [
  {
   "cell_type": "markdown",
   "id": "57f1b132-75b2-406d-abc9-c61e8b4f78b1",
   "metadata": {},
   "source": [
    "# 부록 A-5 입출력\n",
    "* 여러 개의 데이터 입력 받을 때\n",
    "    * `list(map(int, input().split()))` 이용"
   ]
  },
  {
   "cell_type": "markdown",
   "id": "b0c1c98a-7810-4283-82aa-bee7db9247da",
   "metadata": {},
   "source": [
    "* 입력을 위한 전형적인 소스 코드"
   ]
  },
  {
   "cell_type": "code",
   "execution_count": 1,
   "id": "4c4d9d96-8bd7-4f7d-b0d0-5e8456be19fc",
   "metadata": {},
   "outputs": [
    {
     "name": "stdin",
     "output_type": "stream",
     "text": [
      " 5\n",
      " 65 90 75 34 99\n"
     ]
    },
    {
     "name": "stdout",
     "output_type": "stream",
     "text": [
      "data : [99, 90, 75, 65, 34]\n"
     ]
    }
   ],
   "source": [
    "# 데이터의 개수 입력\n",
    "n = int(input())\n",
    "\n",
    "# 각 데이터를 공백으로 구분해 입력\n",
    "data = list(map(int, input().split()))\n",
    "\n",
    "data.sort(reverse=True)\n",
    "print(\"data :\", data)"
   ]
  },
  {
   "cell_type": "markdown",
   "id": "1a76dd4d-fc50-4483-af3a-9c0f500fc218",
   "metadata": {},
   "source": [
    "* 공백을 기준으로 구분해 적은 수의 데이터 입력\n",
    "    * 예 : 첫째 줄에 n,m,k가 공백으로 구분될 경우"
   ]
  },
  {
   "cell_type": "code",
   "execution_count": 2,
   "id": "d8e1cc7e-4318-469f-9620-f8b79c866c9d",
   "metadata": {},
   "outputs": [
    {
     "name": "stdin",
     "output_type": "stream",
     "text": [
      " 3 5 7\n"
     ]
    },
    {
     "name": "stdout",
     "output_type": "stream",
     "text": [
      "n,m,k : 3 5 7\n"
     ]
    }
   ],
   "source": [
    "# n,m,k를 공백으로 구분해 입력\n",
    "n,m,k = map(int, input().split())\n",
    "\n",
    "print(\"n,m,k :\", n, m, k)"
   ]
  },
  {
   "cell_type": "markdown",
   "id": "c18b25e5-0828-4f3a-857a-aef6673dba4f",
   "metadata": {},
   "source": [
    "* 입력 더 빠르게 받기\n",
    "    * C++ : scanf\n",
    "    * Python : sys.stdin.readline().rstrip()\n",
    "        * rstrip은 readline()을 쓸 때 뒤에 붙는 엔터 기호 제거\n",
    "        * Jupyter notebook/lab에서는 안 되는 듯 하다."
   ]
  },
  {
   "cell_type": "code",
   "execution_count": 3,
   "id": "55211134-0d42-4c2f-a022-c217d4b2c8ad",
   "metadata": {},
   "outputs": [
    {
     "name": "stdout",
     "output_type": "stream",
     "text": [
      "\n"
     ]
    }
   ],
   "source": [
    "import sys\n",
    "data = sys.stdin.readline().rstrip()\n",
    "print(data)"
   ]
  },
  {
   "cell_type": "markdown",
   "id": "1668d0bf-d6d2-44fc-afdc-195a2ac21e5a",
   "metadata": {},
   "source": [
    "* print()로 출력 시 변수를 콤마로 구분하면 띄어쓰기로 구분됨"
   ]
  },
  {
   "cell_type": "code",
   "execution_count": 4,
   "id": "a69bf0c3-15b4-416a-b24b-871d91a4e53b",
   "metadata": {},
   "outputs": [
    {
     "name": "stdout",
     "output_type": "stream",
     "text": [
      "1 2\n"
     ]
    }
   ],
   "source": [
    "a,b = 1,2\n",
    "print(a,b)"
   ]
  },
  {
   "cell_type": "markdown",
   "id": "3222b6b5-fa1d-4aa3-9b13-29caa16dad13",
   "metadata": {},
   "source": [
    "* 문자열과 숫자를 함께 출력하려면 다른 방법 필요\n",
    "* str()을 이용해 숫자 → 문자열 변경"
   ]
  },
  {
   "cell_type": "code",
   "execution_count": 5,
   "id": "4ce1b4f8-ffef-4e5c-89ad-6f62027e0545",
   "metadata": {},
   "outputs": [
    {
     "name": "stdout",
     "output_type": "stream",
     "text": [
      "정답은 7입니다.\n",
      "정답은 7 입니다.(콤마로 구분)\n",
      "정답은 7입니다.(f-string 이용)\n"
     ]
    }
   ],
   "source": [
    "# 출력할 변수들\n",
    "answer = 7\n",
    "print(\"정답은 \" + str(answer) + \"입니다.\")\n",
    "print(\"정답은\", str(answer), \"입니다.(콤마로 구분)\")\n",
    "print(f\"정답은 {answer}입니다.(f-string 이용)\")"
   ]
  }
 ],
 "metadata": {
  "kernelspec": {
   "display_name": "Python 3 (ipykernel)",
   "language": "python",
   "name": "python3"
  },
  "language_info": {
   "codemirror_mode": {
    "name": "ipython",
    "version": 3
   },
   "file_extension": ".py",
   "mimetype": "text/x-python",
   "name": "python",
   "nbconvert_exporter": "python",
   "pygments_lexer": "ipython3",
   "version": "3.7.11"
  }
 },
 "nbformat": 4,
 "nbformat_minor": 5
}
