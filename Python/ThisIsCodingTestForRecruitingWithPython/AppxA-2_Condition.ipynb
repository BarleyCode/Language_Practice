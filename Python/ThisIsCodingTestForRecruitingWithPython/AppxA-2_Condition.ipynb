{
 "cells": [
  {
   "cell_type": "markdown",
   "id": "bc938e1a-2546-4b3c-9b3e-53c529690185",
   "metadata": {},
   "source": [
    "# 부록 A-2 조건문"
   ]
  },
  {
   "cell_type": "code",
   "execution_count": 1,
   "id": "36422f1a-6907-41ec-a191-6e90f0942bae",
   "metadata": {},
   "outputs": [
    {
     "name": "stdout",
     "output_type": "stream",
     "text": [
      "15\n"
     ]
    }
   ],
   "source": [
    "# 예\n",
    "x = 15\n",
    "if (x>=10) :\n",
    "    print(x)"
   ]
  },
  {
   "cell_type": "code",
   "execution_count": 2,
   "id": "72546d86-4dee-4d69-ae89-a5fe133c5173",
   "metadata": {},
   "outputs": [
    {
     "name": "stdout",
     "output_type": "stream",
     "text": [
      "학점 : B\n"
     ]
    }
   ],
   "source": [
    "# if~elif~else문\n",
    "score = 85\n",
    "\n",
    "if score >= 90 :\n",
    "    print(\"학점 : A\")\n",
    "elif score >= 80 :\n",
    "    print(\"학점 : B\")\n",
    "elif score >= 70 :\n",
    "    print(\"학점 : C\")\n",
    "else :\n",
    "    print(\"학점 : F\")"
   ]
  },
  {
   "cell_type": "code",
   "execution_count": 3,
   "id": "3f490ccb-20a6-48bc-8bca-6e10668842ce",
   "metadata": {},
   "outputs": [
    {
     "name": "stdout",
     "output_type": "stream",
     "text": [
      "성적이 70점 이상입니다.\n",
      "프로그램을 종료합니다.\n"
     ]
    }
   ],
   "source": [
    "# 들여쓰기 주의\n",
    "score = 85\n",
    "\n",
    "if score >= 70 :\n",
    "    print(\"성적이 70점 이상입니다.\")\n",
    "    if(score >= 90) :\n",
    "        print(\"우수한 성적입니다.\")\n",
    "else :\n",
    "    print(\"성적이 70점 미만입니다.\\n조금 더 분발하세요.\")\n",
    "print(\"프로그램을 종료합니다.\") # 무조건 실행"
   ]
  },
  {
   "cell_type": "markdown",
   "id": "3fb12897-af36-4a06-9371-bcc29785be24",
   "metadata": {},
   "source": [
    "### 2.1 비교 연산자\n",
    "\n",
    "### 2.2 논리 연산자\n",
    "* X and Y : X,Y 둘 다 참(True)일 때 참\n",
    "* X or Y : X와 Y 중 하나만 참이면 참\n",
    "* not X : X가 거짓일 때(False) 참"
   ]
  },
  {
   "cell_type": "markdown",
   "id": "cedec5dd-baa0-43bc-8b33-a80822ac81a4",
   "metadata": {},
   "source": [
    "### 2.3 파이썬의 기타 연산자\n",
    "* X in 리스트/문자열\n",
    "* X not in 리스트/문자열\n",
    "* pass : 조건문의 값이 참(True)이어도 처리 X"
   ]
  },
  {
   "cell_type": "code",
   "execution_count": 4,
   "id": "2281a19f-a3d6-4586-95d3-0388c019264f",
   "metadata": {},
   "outputs": [
    {
     "name": "stdout",
     "output_type": "stream",
     "text": [
      "프로그램을 종료합니다.\n"
     ]
    }
   ],
   "source": [
    "score = 85\n",
    "if score >= 80 :\n",
    "    pass # 조건문 형태만 만들고 pass 쓴 후 나중에 작성 가능\n",
    "else :\n",
    "    print(\"성적이 80점 미만입니다\")\n",
    "print(\"프로그램을 종료합니다.\")"
   ]
  },
  {
   "cell_type": "code",
   "execution_count": 5,
   "id": "00028488-2b29-41f7-8952-1ec45a881223",
   "metadata": {},
   "outputs": [
    {
     "name": "stdout",
     "output_type": "stream",
     "text": [
      "Success\n"
     ]
    }
   ],
   "source": [
    "score = 85\n",
    "if (score>=80) : print(\"Success\")\n",
    "else : print(\"Fail\")"
   ]
  },
  {
   "cell_type": "code",
   "execution_count": 6,
   "id": "e1fdfa33-5130-45cd-b004-20717cc9174c",
   "metadata": {},
   "outputs": [
    {
     "name": "stdout",
     "output_type": "stream",
     "text": [
      "Success\n"
     ]
    }
   ],
   "source": [
    "# 조건부 표현식 (Conditional Expression)\n",
    "score = 85\n",
    "result = \"Success\" if score >= 80 else \"Fail\"\n",
    "print(result)"
   ]
  },
  {
   "cell_type": "code",
   "execution_count": 7,
   "id": "68c2551e-1a9b-4a2c-9897-d98d4035884c",
   "metadata": {},
   "outputs": [
    {
     "name": "stdout",
     "output_type": "stream",
     "text": [
      "[1, 2, 4]\n"
     ]
    }
   ],
   "source": [
    "# 조건부 표현식 : 리스트의 원소 값 변경 → 또 다른 리스트 생성 시 유용\n",
    "# 일반적인 작성 형태\n",
    "a = [1,2,3,4,5,5,5]\n",
    "remove_set = {3,5}\n",
    "result = []\n",
    "\n",
    "for i in a :\n",
    "    if i not in remove_set:\n",
    "        result.append(i)\n",
    "\n",
    "print(result)"
   ]
  },
  {
   "cell_type": "code",
   "execution_count": 8,
   "id": "9f56b425-a86e-4caa-958d-f32d75aa8e6b",
   "metadata": {},
   "outputs": [
    {
     "name": "stdout",
     "output_type": "stream",
     "text": [
      "[1, 2, 4]\n"
     ]
    }
   ],
   "source": [
    "# 간단하게 작성 가능\n",
    "a = [1,2,3,4,5,5,5]\n",
    "remove_set = {3,5}\n",
    "\n",
    "result = [i for i in a if i not in remove_set]\n",
    "print(result)"
   ]
  }
 ],
 "metadata": {
  "kernelspec": {
   "display_name": "Python 3 (ipykernel)",
   "language": "python",
   "name": "python3"
  },
  "language_info": {
   "codemirror_mode": {
    "name": "ipython",
    "version": 3
   },
   "file_extension": ".py",
   "mimetype": "text/x-python",
   "name": "python",
   "nbconvert_exporter": "python",
   "pygments_lexer": "ipython3",
   "version": "3.7.11"
  }
 },
 "nbformat": 4,
 "nbformat_minor": 5
}
