{
 "cells": [
  {
   "cell_type": "markdown",
   "metadata": {},
   "source": [
    "## Practice PyARXaaS\n",
    "site: https://github.com/navikt/pyarxaas\n",
    "        \n"
   ]
  },
  {
   "cell_type": "code",
   "execution_count": 18,
   "metadata": {},
   "outputs": [],
   "source": [
    "# Environments\n",
    "\n",
    "from pyarxaas import ARXaaS\n",
    "from pyarxaas.privacy_models import KAnonymity\n",
    "from pyarxaas import AttributeType\n",
    "from pyarxaas import Dataset\n",
    "from pyarxaas.hierarchy import DateHierarchyBuilder\n",
    "import pandas as pd"
   ]
  },
  {
   "cell_type": "code",
   "execution_count": 19,
   "metadata": {},
   "outputs": [],
   "source": [
    "# Connect to ARXaaS\n",
    "arxaas = ARXaaS(\"http://localhost:8080/\")"
   ]
  },
  {
   "cell_type": "code",
   "execution_count": 20,
   "metadata": {},
   "outputs": [],
   "source": [
    "# Get dataset\n",
    "df = pd.read_csv(\"german_credit_data.csv\")\n",
    "dataset = Dataset.from_pandas(df)"
   ]
  },
  {
   "cell_type": "code",
   "execution_count": 21,
   "metadata": {},
   "outputs": [],
   "source": [
    "# Set attribute type\n",
    "dataset.set_attribute_type(AttributeType.QUASIIDENTIFYING, 'Age', 'Sex', 'Job')\n",
    "dataset.set_attribute_type(AttributeType.IDENTIFYING, 'Number')"
   ]
  },
  {
   "cell_type": "code",
   "execution_count": 22,
   "metadata": {},
   "outputs": [
    {
     "name": "stdout",
     "output_type": "stream",
     "text": [
      "Index(['Number', 'Age', 'Sex', 'Job', 'Housing', 'Saving accounts',\n",
      "       'Checking account', 'Credit amount', 'Duration', 'Purpose', 'Risk'],\n",
      "      dtype='object')\n",
      "Dataset(data=<pyarxaas.models.dataset.data.Data object at 0x0000013C80C407C8>, attributes=[Attribute(field_name=Number, type=AttributeType.IDENTIFYING, hierarchy=None), Attribute(field_name=Age, type=AttributeType.QUASIIDENTIFYING, hierarchy=None), Attribute(field_name=Sex, type=AttributeType.QUASIIDENTIFYING, hierarchy=None), Attribute(field_name=Job, type=AttributeType.QUASIIDENTIFYING, hierarchy=None), Attribute(field_name=Housing, type=AttributeType.QUASIIDENTIFYING, hierarchy=None), Attribute(field_name=Saving accounts, type=AttributeType.QUASIIDENTIFYING, hierarchy=None), Attribute(field_name=Checking account, type=AttributeType.QUASIIDENTIFYING, hierarchy=None), Attribute(field_name=Credit amount, type=AttributeType.QUASIIDENTIFYING, hierarchy=None), Attribute(field_name=Duration, type=AttributeType.QUASIIDENTIFYING, hierarchy=None), Attribute(field_name=Purpose, type=AttributeType.QUASIIDENTIFYING, hierarchy=None), Attribute(field_name=Risk, type=AttributeType.QUASIIDENTIFYING, hierarchy=None)])\n"
     ]
    }
   ],
   "source": [
    "## Check if columns and dataset are printed well\n",
    "print(df.columns)\n",
    "print(dataset)"
   ]
  },
  {
   "cell_type": "code",
   "execution_count": 23,
   "metadata": {},
   "outputs": [
    {
     "name": "stdout",
     "output_type": "stream",
     "text": [
      "<pyarxaas.models.risk_profile.RiskProfile object at 0x0000013C80BA9B08>\n"
     ]
    }
   ],
   "source": [
    "# Get the risk profile of the dataset\n",
    "risk_profile = arxaas.risk_profile(dataset)\n",
    "print(risk_profile)"
   ]
  },
  {
   "cell_type": "code",
   "execution_count": 24,
   "metadata": {},
   "outputs": [
    {
     "name": "stdout",
     "output_type": "stream",
     "text": [
      "{'estimated_journalist_risk': 1.0, 'records_affected_by_highest_prosecutor_risk': 1.0, 'sample_uniques': 1.0, 'lowest_risk': 1.0, 'estimated_prosecutor_risk': 1.0, 'highest_journalist_risk': 1.0, 'records_affected_by_lowest_risk': 1.0, 'average_prosecutor_risk': 1.0, 'estimated_marketer_risk': 1.0, 'highest_prosecutor_risk': 1.0, 'records_affected_by_highest_journalist_risk': 1.0, 'population_uniques': 1.0}\n",
      "{'riskIntervalList': [{'interval': '[50,100]', 'recordsWithRiskWithinInterval': 1.0, 'recordsWithMaximalRiskWithinInterval': 1.0}, {'interval': '[33.4,50)', 'recordsWithRiskWithinInterval': 0.0, 'recordsWithMaximalRiskWithinInterval': 0.0}, {'interval': '[25,33.4)', 'recordsWithRiskWithinInterval': 0.0, 'recordsWithMaximalRiskWithinInterval': 0.0}, {'interval': '[20,25)', 'recordsWithRiskWithinInterval': 0.0, 'recordsWithMaximalRiskWithinInterval': 0.0}, {'interval': '[16.7,20)', 'recordsWithRiskWithinInterval': 0.0, 'recordsWithMaximalRiskWithinInterval': 0.0}, {'interval': '[14.3,16.7)', 'recordsWithRiskWithinInterval': 0.0, 'recordsWithMaximalRiskWithinInterval': 0.0}, {'interval': '[12.5,14.3)', 'recordsWithRiskWithinInterval': 0.0, 'recordsWithMaximalRiskWithinInterval': 0.0}, {'interval': '[10,12.5)', 'recordsWithRiskWithinInterval': 0.0, 'recordsWithMaximalRiskWithinInterval': 0.0}, {'interval': '[9,10)', 'recordsWithRiskWithinInterval': 0.0, 'recordsWithMaximalRiskWithinInterval': 0.0}, {'interval': '[8,9)', 'recordsWithRiskWithinInterval': 0.0, 'recordsWithMaximalRiskWithinInterval': 0.0}, {'interval': '[7,8)', 'recordsWithRiskWithinInterval': 0.0, 'recordsWithMaximalRiskWithinInterval': 0.0}, {'interval': '[6,7)', 'recordsWithRiskWithinInterval': 0.0, 'recordsWithMaximalRiskWithinInterval': 0.0}, {'interval': '[5,6)', 'recordsWithRiskWithinInterval': 0.0, 'recordsWithMaximalRiskWithinInterval': 0.0}, {'interval': '[4,5)', 'recordsWithRiskWithinInterval': 0.0, 'recordsWithMaximalRiskWithinInterval': 0.0}, {'interval': '[3,4)', 'recordsWithRiskWithinInterval': 0.0, 'recordsWithMaximalRiskWithinInterval': 0.0}, {'interval': '[2,3)', 'recordsWithRiskWithinInterval': 0.0, 'recordsWithMaximalRiskWithinInterval': 0.0}, {'interval': '[1,2)', 'recordsWithRiskWithinInterval': 0.0, 'recordsWithMaximalRiskWithinInterval': 0.0}, {'interval': '[0.1,1)', 'recordsWithRiskWithinInterval': 0.0, 'recordsWithMaximalRiskWithinInterval': 0.0}, {'interval': '[0.01,0.1)', 'recordsWithRiskWithinInterval': 0.0, 'recordsWithMaximalRiskWithinInterval': 0.0}, {'interval': '[0.001,0.01)', 'recordsWithRiskWithinInterval': 0.0, 'recordsWithMaximalRiskWithinInterval': 0.0}, {'interval': '[0.0001,0.001)', 'recordsWithRiskWithinInterval': 0.0, 'recordsWithMaximalRiskWithinInterval': 0.0}, {'interval': '[1e-5,0.0001)', 'recordsWithRiskWithinInterval': 0.0, 'recordsWithMaximalRiskWithinInterval': 0.0}, {'interval': '[1e-6,1e-5)', 'recordsWithRiskWithinInterval': 0.0, 'recordsWithMaximalRiskWithinInterval': 0.0}, {'interval': '[0,1e-6)', 'recordsWithRiskWithinInterval': 0.0, 'recordsWithMaximalRiskWithinInterval': 0.0}]}\n"
     ]
    }
   ],
   "source": [
    "# Get risk metrics (위험 지표)\n",
    "re_identification_risk = risk_profile.re_identification_risk\n",
    "distribution_of_risk = risk_profile.distribution_of_risk\n",
    "print(re_identification_risk)\n",
    "print(distribution_of_risk)"
   ]
  },
  {
   "cell_type": "code",
   "execution_count": null,
   "metadata": {},
   "outputs": [],
   "source": [
    "age_hierarchy = pd.read_csv()"
   ]
  }
 ],
 "metadata": {
  "kernelspec": {
   "display_name": "Python 3",
   "language": "python",
   "name": "python3"
  },
  "language_info": {
   "codemirror_mode": {
    "name": "ipython",
    "version": 3
   },
   "file_extension": ".py",
   "mimetype": "text/x-python",
   "name": "python",
   "nbconvert_exporter": "python",
   "pygments_lexer": "ipython3",
   "version": "3.7.9"
  }
 },
 "nbformat": 4,
 "nbformat_minor": 4
}
