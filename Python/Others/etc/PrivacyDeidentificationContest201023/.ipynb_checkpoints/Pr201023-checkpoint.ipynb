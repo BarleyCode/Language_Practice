{
 "cells": [
  {
   "cell_type": "markdown",
   "metadata": {},
   "source": [
    "## Practice PyARXaaS\n",
    "site: https://github.com/navikt/pyarxaas\n",
    "        \n"
   ]
  },
  {
   "cell_type": "code",
   "execution_count": 6,
   "metadata": {},
   "outputs": [],
   "source": [
    "# Environments\n",
    "\n",
    "from pyarxaas import ARXaaS\n",
    "from pyarxaas.privacy_models import KAnonymity\n",
    "from pyarxaas import AttributeType\n",
    "from pyarxaas import Dataset\n",
    "import pandas as pd"
   ]
  },
  {
   "cell_type": "code",
   "execution_count": 11,
   "metadata": {},
   "outputs": [],
   "source": [
    "# Get dataset\n",
    "df = pd.read_csv(\"german_credit_data.csv\")\n",
    "dataset = Dataset.from_pandas(df)"
   ]
  },
  {
   "cell_type": "code",
   "execution_count": 15,
   "metadata": {},
   "outputs": [],
   "source": [
    "# Set attribute type\n",
    "dataset.set_attribute_type(AttributeType.QUASIIDENTIFYING, 'Age', 'Job')"
   ]
  },
  {
   "cell_type": "code",
   "execution_count": 17,
   "metadata": {},
   "outputs": [
    {
     "name": "stdout",
     "output_type": "stream",
     "text": [
      "Index(['Age', 'Sex', 'Job', 'Housing', 'Saving accounts', 'Checking account',\n",
      "       'Credit amount', 'Duration', 'Purpose', 'Risk'],\n",
      "      dtype='object')\n"
     ]
    }
   ],
   "source": [
    "print(df.columns)"
   ]
  },
  {
   "cell_type": "code",
   "execution_count": 18,
   "metadata": {},
   "outputs": [
    {
     "name": "stdout",
     "output_type": "stream",
     "text": [
      "Dataset(data=<pyarxaas.models.dataset.data.Data object at 0x00000279B22DE608>, attributes=[Attribute(field_name=Age, type=AttributeType.QUASIIDENTIFYING, hierarchy=None), Attribute(field_name=Sex, type=AttributeType.QUASIIDENTIFYING, hierarchy=None), Attribute(field_name=Job, type=AttributeType.QUASIIDENTIFYING, hierarchy=None), Attribute(field_name=Housing, type=AttributeType.QUASIIDENTIFYING, hierarchy=None), Attribute(field_name=Saving accounts, type=AttributeType.QUASIIDENTIFYING, hierarchy=None), Attribute(field_name=Checking account, type=AttributeType.QUASIIDENTIFYING, hierarchy=None), Attribute(field_name=Credit amount, type=AttributeType.QUASIIDENTIFYING, hierarchy=None), Attribute(field_name=Duration, type=AttributeType.QUASIIDENTIFYING, hierarchy=None), Attribute(field_name=Purpose, type=AttributeType.QUASIIDENTIFYING, hierarchy=None), Attribute(field_name=Risk, type=AttributeType.QUASIIDENTIFYING, hierarchy=None)])\n"
     ]
    }
   ],
   "source": [
    "print(dataset)"
   ]
  },
  {
   "cell_type": "code",
   "execution_count": null,
   "metadata": {},
   "outputs": [],
   "source": []
  }
 ],
 "metadata": {
  "kernelspec": {
   "display_name": "Python 3",
   "language": "python",
   "name": "python3"
  },
  "language_info": {
   "codemirror_mode": {
    "name": "ipython",
    "version": 3
   },
   "file_extension": ".py",
   "mimetype": "text/x-python",
   "name": "python",
   "nbconvert_exporter": "python",
   "pygments_lexer": "ipython3",
   "version": "3.7.9"
  }
 },
 "nbformat": 4,
 "nbformat_minor": 4
}
